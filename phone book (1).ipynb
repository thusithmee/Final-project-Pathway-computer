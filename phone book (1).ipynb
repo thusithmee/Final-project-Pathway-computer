{
 "cells": [
  {
   "cell_type": "markdown",
   "id": "f9b94e29-8939-4e7a-9dba-4036ea3a44e8",
   "metadata": {},
   "source": [
    "# GROUP PROJECT- GROUP NUMBER O1 #"
   ]
  },
  {
   "cell_type": "markdown",
   "id": "8b6d30b4-f15b-423d-aa7e-03d182c8b902",
   "metadata": {},
   "source": [
    "#### 03-10-2024 ####"
   ]
  },
  {
   "cell_type": "markdown",
   "id": "8ce91e24-ca6d-43a4-a509-1abecaea8564",
   "metadata": {},
   "source": [
    "## Group Members ##\n",
    "* Sajith Prashan Appuhamy Ranasingha Arachchilage\n",
    "* Ghazanfar Abbas\n",
    "* W Mudiyanselage Susani Imeshika Menike Weerasekara\n",
    "* Asitha Sudesh Nirmal Juwandara Appuhamilage\n",
    "* Meegahakumbure Gedara Thusitha Kumara"
   ]
  },
  {
   "cell_type": "markdown",
   "id": "5147c91c-13de-47dd-be7e-a3e37adf2397",
   "metadata": {},
   "source": [
    "# Description #\n",
    "####  Phonebook - A directory of contact information. ####"
   ]
  },
  {
   "cell_type": "markdown",
   "id": "d90491f8-8a2b-49d1-8324-40894c3696e9",
   "metadata": {},
   "source": [
    "# Phone Book #"
   ]
  },
  {
   "cell_type": "code",
   "execution_count": null,
   "id": "c2ff869c-253d-4223-bd6b-2bfa44fa98dd",
   "metadata": {},
   "outputs": [
    {
     "name": "stdout",
     "output_type": "stream",
     "text": [
      "\n",
      "Phone Book Menu:\n",
      "1. Enter new entry\n",
      "2. Delete an existing one\n",
      "3. Change phone number\n",
      "4. Display the phone book\n",
      "5. Exit\n"
     ]
    }
   ],
   "source": [
    "import os\n",
    "\n",
    "PHONEBOOK_FILE = \"phonebook.txt\"\n",
    "\n",
    "# Load phone book\n",
    "def load_phonebook():\n",
    "    phonebook = {}\n",
    "    if os.path.exists(PHONEBOOK_FILE):\n",
    "        with open(PHONEBOOK_FILE, 'r') as file:\n",
    "            for line in file:\n",
    "                name, number = line.strip().split(',')\n",
    "                phonebook[name] = number\n",
    "    return phonebook\n",
    "\n",
    "# Save the phone book\n",
    "def save_phonebook(phonebook):\n",
    "    with open(PHONEBOOK_FILE, 'w') as file:\n",
    "        for name, number in phonebook.items():\n",
    "            file.write(f\"{name},{number}\\n\")\n",
    "\n",
    "# Add a new entry \n",
    "def add_entry(phonebook):\n",
    "    name = input(\"Enter the name: \").strip()\n",
    "    if name in phonebook:\n",
    "        print(f\"{name} is already in the phone book.\")\n",
    "    else:\n",
    "        number = input(\"Enter the phone number: \").strip()\n",
    "        phonebook[name] = number\n",
    "        print(f\"Added {name} to the phone book.\")\n",
    "\n",
    "# Delete entry\n",
    "def delete_entry(phonebook):\n",
    "    name = input(\"Enter the name to delete: \").strip()\n",
    "    if name in phonebook:\n",
    "        del phonebook[name]\n",
    "        print(f\"Deleted {name} from the phone book.\")\n",
    "    else:\n",
    "        print(f\"{name} was not found in the phone book.\")\n",
    "\n",
    "# Change a phone number \n",
    "def change_number(phonebook):\n",
    "    name = input(\"Enter the name to change the number for: \").strip()\n",
    "    if name in phonebook:\n",
    "        new_number = input(f\"Enter the new phone number for {name}: \").strip()\n",
    "        phonebook[name] = new_number\n",
    "        print(f\"Updated {name}'s phone number.\")\n",
    "    else:\n",
    "        print(f\"{name} was not found in the phone book.\")\n",
    "\n",
    "# Display the phone book\n",
    "def display_phonebook(phonebook):\n",
    "    if phonebook:\n",
    "        print(\"\\nPhone Book Entries:\")\n",
    "        for name, number in phonebook.items():\n",
    "            print(f\"{name}: {number}\")\n",
    "    else:\n",
    "        print(\"\\nPhone book is empty.\")\n",
    "\n",
    "# Main menu\n",
    "def main_menu():\n",
    "    phonebook = load_phonebook()\n",
    "\n",
    "    while True:\n",
    "        print(\"\\nPhone Book Menu:\")\n",
    "        print(\"1. Enter new entry\")\n",
    "        print(\"2. Delete an existing one\")\n",
    "        print(\"3. Change phone number\")\n",
    "        print(\"4. Display the phone book\")\n",
    "        print(\"5. Exit\")\n",
    "\n",
    "        choice = input(\"Choose an option (1-5): \").strip()\n",
    "\n",
    "        if choice == '1':\n",
    "            add_entry(phonebook)\n",
    "        elif choice == '2':\n",
    "            delete_entry(phonebook)\n",
    "        elif choice == '3':\n",
    "            change_number(phonebook)\n",
    "        elif choice == '4':\n",
    "            display_phonebook(phonebook)\n",
    "        elif choice == '5':\n",
    "            save_phonebook(phonebook)\n",
    "            print(\"Exiting the program. Phone book saved.\")\n",
    "            break\n",
    "        else:\n",
    "            print(\"Invalid option. Please choose a valid number from the menu.\")\n",
    "\n",
    "# Start the final program\n",
    "if __name__ == \"__main__\":\n",
    "    main_menu()\n"
   ]
  },
  {
   "cell_type": "code",
   "execution_count": null,
   "id": "29c22b29-0d4e-40e4-9635-074071916748",
   "metadata": {},
   "outputs": [],
   "source": []
  },
  {
   "cell_type": "code",
   "execution_count": null,
   "id": "34bfb947-26f5-4ca5-a97a-e80c62ccc72f",
   "metadata": {},
   "outputs": [],
   "source": []
  }
 ],
 "metadata": {
  "kernelspec": {
   "display_name": "Python 3 (ipykernel)",
   "language": "python",
   "name": "python3"
  },
  "language_info": {
   "codemirror_mode": {
    "name": "ipython",
    "version": 3
   },
   "file_extension": ".py",
   "mimetype": "text/x-python",
   "name": "python",
   "nbconvert_exporter": "python",
   "pygments_lexer": "ipython3",
   "version": "3.12.4"
  }
 },
 "nbformat": 4,
 "nbformat_minor": 5
}
